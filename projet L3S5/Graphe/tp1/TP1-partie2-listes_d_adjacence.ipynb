{
 "cells": [
  {
   "cell_type": "markdown",
   "source": [
    "# TP1 - partie 2\n",
    "\n",
    "Dans cette seconde partie de TP nous allons représenter des graphes par des listes d'adjacence (voir section 1.3.2 du cours)."
   ],
   "metadata": {}
  },
  {
   "cell_type": "markdown",
   "source": [
    "Le même graphe que celui donné en exemple dans la partie 1 pourra être représenté ainsi :"
   ],
   "metadata": {}
  },
  {
   "cell_type": "code",
   "execution_count": 1,
   "source": [
    "g = [[1,2],[0,2],[0,1],[]]"
   ],
   "outputs": [],
   "metadata": {}
  },
  {
   "cell_type": "markdown",
   "source": [
    "Cette fois, les numéros représentent les numéros des sommets (toujours 0-indicés)."
   ],
   "metadata": {}
  },
  {
   "cell_type": "code",
   "execution_count": 2,
   "source": [
    "g"
   ],
   "outputs": [
    {
     "output_type": "execute_result",
     "data": {
      "text/plain": [
       "[[1, 2], [0, 2], [0, 1], []]"
      ]
     },
     "metadata": {},
     "execution_count": 2
    }
   ],
   "metadata": {}
  },
  {
   "cell_type": "markdown",
   "source": [
    "Les listes de sommets adjacents ne sont pas nécessairement ordonnées. Par exemple pour la liste des voisisns du sommet 1 on aurait pu écrire `[2,0]` plutôt que `[0,2]`. On suposera aussi qu'il n'y a pas de doublons dans ces listes."
   ],
   "metadata": {}
  },
  {
   "cell_type": "markdown",
   "source": [
    "L'accès aux voisins d'un sommet est donc immédiat."
   ],
   "metadata": {}
  },
  {
   "cell_type": "code",
   "execution_count": 3,
   "source": [
    "g[0]"
   ],
   "outputs": [
    {
     "output_type": "execute_result",
     "data": {
      "text/plain": [
       "[1, 2]"
      ]
     },
     "metadata": {},
     "execution_count": 3
    }
   ],
   "metadata": {}
  },
  {
   "cell_type": "markdown",
   "source": [
    "Ecrire le code permettant de tester si il existe une arête entre le sommet 0 et le sommet 2. Entre le sommet 2 et le sommet 1."
   ],
   "metadata": {}
  },
  {
   "cell_type": "code",
   "execution_count": 4,
   "source": [
    "2 in g[0]"
   ],
   "outputs": [
    {
     "output_type": "execute_result",
     "data": {
      "text/plain": [
       "True"
      ]
     },
     "metadata": {},
     "execution_count": 4
    }
   ],
   "metadata": {}
  },
  {
   "cell_type": "code",
   "execution_count": 5,
   "source": [
    "1 in g[2]"
   ],
   "outputs": [
    {
     "output_type": "execute_result",
     "data": {
      "text/plain": [
       "True"
      ]
     },
     "metadata": {},
     "execution_count": 5
    }
   ],
   "metadata": {}
  },
  {
   "cell_type": "markdown",
   "source": [
    "Ecrire une fonction `taille` qui retourne la taille d'un graphe donné sous forme de listes d'adjacence (supposée correcte)."
   ],
   "metadata": {}
  },
  {
   "cell_type": "code",
   "execution_count": 6,
   "source": [
    "def taille (graphe):\n",
    "    res = 0\n",
    "    for sommets in graphe:\n",
    "        res = res + len(sommets)\n",
    "    return res // 2"
   ],
   "outputs": [],
   "metadata": {}
  },
  {
   "cell_type": "code",
   "execution_count": 7,
   "source": [
    "taille(g)"
   ],
   "outputs": [
    {
     "output_type": "execute_result",
     "data": {
      "text/plain": [
       "3"
      ]
     },
     "metadata": {},
     "execution_count": 7
    }
   ],
   "metadata": {}
  },
  {
   "cell_type": "markdown",
   "source": [
    "Ecrire une fonction qui prend en entrée une liste de couples de numéros de sommets représentant les arêtes d'un graphe et qui retourne une liste d'adjacence représentant le graphe. On passera en paramètre le nombre de sommets."
   ],
   "metadata": {}
  },
  {
   "cell_type": "code",
   "execution_count": 10,
   "source": [
    "def creer (graphe, nombre_de_sommets):\n",
    "    k = 0\n",
    "    j = 0\n",
    "    res = []\n",
    "    for k in range(nombre_de_sommets):\n",
    "        res.append([])\n",
    "\n",
    "    for couple in graphe:\n",
    "        res[couple[0]].append(couple[1])\n",
    "        res[couple[1]].append(couple[0])\n",
    "    return res"
   ],
   "outputs": [],
   "metadata": {}
  },
  {
   "cell_type": "code",
   "execution_count": 11,
   "source": [
    "g = creer([(0,3), (1, 2), (1, 3)],4)"
   ],
   "outputs": [],
   "metadata": {}
  },
  {
   "cell_type": "markdown",
   "source": [
    "Vérifions que `g` a la bonne taille."
   ],
   "metadata": {}
  },
  {
   "cell_type": "code",
   "execution_count": 12,
   "source": [
    "taille(g)"
   ],
   "outputs": [
    {
     "output_type": "execute_result",
     "data": {
      "text/plain": [
       "3"
      ]
     },
     "metadata": {},
     "execution_count": 12
    }
   ],
   "metadata": {}
  },
  {
   "cell_type": "markdown",
   "source": [
    "Ecrire une procédure qui étant donnés un graphe représenté par des listes d'adjacence, deux sommets (numéros de sommets) ajoute une arête entre ces deux sommets et modifie le graphe passé en paramètre."
   ],
   "metadata": {}
  },
  {
   "cell_type": "code",
   "execution_count": 13,
   "source": [
    "def ajouter_arete (graphe, sommet1, sommet2):\n",
    "    graphe[sommet1].append(sommet2)\n",
    "    graphe[sommet2].append(sommet1)"
   ],
   "outputs": [],
   "metadata": {}
  },
  {
   "cell_type": "markdown",
   "source": [
    "Vérifions que `g` a la bonne taille une fois une nouvelle arête ajoutée."
   ],
   "metadata": {}
  },
  {
   "cell_type": "code",
   "execution_count": 15,
   "source": [
    "ajouter_arete(g,2,3)"
   ],
   "outputs": [],
   "metadata": {}
  },
  {
   "cell_type": "code",
   "execution_count": 16,
   "source": [
    "taille(g)"
   ],
   "outputs": [
    {
     "output_type": "execute_result",
     "data": {
      "text/plain": [
       "4"
      ]
     },
     "metadata": {},
     "execution_count": 16
    }
   ],
   "metadata": {}
  },
  {
   "cell_type": "code",
   "execution_count": null,
   "source": [],
   "outputs": [],
   "metadata": {}
  }
 ],
 "metadata": {
  "kernelspec": {
   "name": "python3",
   "display_name": "Python 3.8.10 64-bit"
  },
  "language_info": {
   "codemirror_mode": {
    "name": "ipython",
    "version": 3
   },
   "file_extension": ".py",
   "mimetype": "text/x-python",
   "name": "python",
   "nbconvert_exporter": "python",
   "pygments_lexer": "ipython3",
   "version": "3.8.10"
  },
  "interpreter": {
   "hash": "916dbcbb3f70747c44a77c7bcd40155683ae19c65e1c03b4aa3499c5328201f1"
  }
 },
 "nbformat": 4,
 "nbformat_minor": 4
}