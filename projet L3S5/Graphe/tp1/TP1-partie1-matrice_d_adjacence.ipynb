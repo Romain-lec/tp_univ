{
 "cells": [
  {
   "cell_type": "markdown",
   "source": [
    "# TP1 - partie 1\n",
    "\n",
    "Dans cette première partie de TP nous allons représenter des graphes par une matrice d'adjacence (voir section 1.3.1 du cours)."
   ],
   "metadata": {}
  },
  {
   "cell_type": "code",
   "execution_count": 1,
   "source": [
    "import numpy as np"
   ],
   "outputs": [],
   "metadata": {}
  },
  {
   "cell_type": "markdown",
   "source": [
    "Nous utilisons une fonctionalité du module NumPy permettant de créer une matrice (un tableau de tableaux) à partir d'une listes de listes, chacune des sous-liste représentant une ligne de la matrice."
   ],
   "metadata": {}
  },
  {
   "cell_type": "code",
   "execution_count": 2,
   "source": [
    "g = np.array([[0,1,1,0],[1,0,1,0],[1,1,0,0],[0,0,0,0]])"
   ],
   "outputs": [],
   "metadata": {}
  },
  {
   "cell_type": "markdown",
   "source": [
    "Bien entendu, la matrice représentant un graphe non orienté (ceux qu'on manipule en début de ce cours) sont toujours symétriques."
   ],
   "metadata": {}
  },
  {
   "cell_type": "code",
   "execution_count": 3,
   "source": [
    "g"
   ],
   "outputs": [
    {
     "output_type": "execute_result",
     "data": {
      "text/plain": [
       "array([[0, 1, 1, 0],\n",
       "       [1, 0, 1, 0],\n",
       "       [1, 1, 0, 0],\n",
       "       [0, 0, 0, 0]])"
      ]
     },
     "metadata": {},
     "execution_count": 3
    }
   ],
   "metadata": {}
  },
  {
   "cell_type": "markdown",
   "source": [
    "L'accès à un élément d'une telle matrice se fait avec une notation usuelle d'accès à un tableau, en n'oubliant pas que l'on travaille avec des indices débutant à 0."
   ],
   "metadata": {}
  },
  {
   "cell_type": "code",
   "execution_count": 4,
   "source": [
    "g[0][0]"
   ],
   "outputs": [
    {
     "output_type": "execute_result",
     "data": {
      "text/plain": [
       "0"
      ]
     },
     "metadata": {},
     "execution_count": 4
    }
   ],
   "metadata": {}
  },
  {
   "cell_type": "code",
   "execution_count": 5,
   "source": [
    "g[0][1]"
   ],
   "outputs": [
    {
     "output_type": "execute_result",
     "data": {
      "text/plain": [
       "1"
      ]
     },
     "metadata": {},
     "execution_count": 5
    }
   ],
   "metadata": {}
  },
  {
   "cell_type": "markdown",
   "source": [
    "Le premier indice représente la ligne, le second la colonne. Le nombre de sommets du graphe est obtenu directement par la taille de la matrice."
   ],
   "metadata": {}
  },
  {
   "cell_type": "markdown",
   "source": [
    "Ecrire le code permettant de tester si il existe une arête entre le sommet 0 et le sommet 2. Entre le sommet 2 et le sommet 1."
   ],
   "metadata": {}
  },
  {
   "cell_type": "code",
   "execution_count": 6,
   "source": [
    "g[0][2]"
   ],
   "outputs": [
    {
     "output_type": "execute_result",
     "data": {
      "text/plain": [
       "1"
      ]
     },
     "metadata": {},
     "execution_count": 6
    }
   ],
   "metadata": {}
  },
  {
   "cell_type": "code",
   "execution_count": 7,
   "source": [
    "g[2][1]"
   ],
   "outputs": [
    {
     "output_type": "execute_result",
     "data": {
      "text/plain": [
       "1"
      ]
     },
     "metadata": {},
     "execution_count": 7
    }
   ],
   "metadata": {}
  },
  {
   "cell_type": "markdown",
   "source": [
    "Ecrire une fonction `voisins` qui prend en entrée un graphe sous forme de matrice d'adjacence (qu'on supposera correcte) et un numéro sommet (qu'on supposera valide) et retourne la liste des sommets voisins (ou adjacents)."
   ],
   "metadata": {}
  },
  {
   "cell_type": "code",
   "execution_count": 15,
   "source": [
    "def voisins (graphe, sommet):\n",
    "    \"\"\"\n",
    "    Retourne la liste des successeurs du sommet dans le graphe.\n",
    "    CU: le sommet existe\n",
    "    \"\"\"\n",
    "    res = []\n",
    "    k = 0\n",
    "    for sommets in graphe[sommet]:\n",
    "        if sommets == 1:\n",
    "            res.append(k)\n",
    "        k = k + 1\n",
    "    return res"
   ],
   "outputs": [],
   "metadata": {}
  },
  {
   "cell_type": "code",
   "execution_count": 16,
   "source": [
    "voisins(g,0)"
   ],
   "outputs": [
    {
     "output_type": "execute_result",
     "data": {
      "text/plain": [
       "[1, 2]"
      ]
     },
     "metadata": {},
     "execution_count": 16
    }
   ],
   "metadata": {}
  },
  {
   "cell_type": "code",
   "execution_count": 17,
   "source": [
    "voisins(g,1)"
   ],
   "outputs": [
    {
     "output_type": "execute_result",
     "data": {
      "text/plain": [
       "[0, 2]"
      ]
     },
     "metadata": {},
     "execution_count": 17
    }
   ],
   "metadata": {}
  },
  {
   "cell_type": "code",
   "execution_count": 18,
   "source": [
    "voisins(g,2)"
   ],
   "outputs": [
    {
     "output_type": "execute_result",
     "data": {
      "text/plain": [
       "[0, 1]"
      ]
     },
     "metadata": {},
     "execution_count": 18
    }
   ],
   "metadata": {}
  },
  {
   "cell_type": "code",
   "execution_count": 19,
   "source": [
    "voisins(g,3)"
   ],
   "outputs": [
    {
     "output_type": "execute_result",
     "data": {
      "text/plain": [
       "[]"
      ]
     },
     "metadata": {},
     "execution_count": 19
    }
   ],
   "metadata": {}
  },
  {
   "cell_type": "markdown",
   "source": [
    "Ecrire une fonction `taille` qui retourne la taille d'un graphe donné sous forme d'une matrice d'adjacence (supposée correcte)."
   ],
   "metadata": {}
  },
  {
   "cell_type": "code",
   "execution_count": 22,
   "source": [
    "def taille (graphe):\n",
    "    res = 0\n",
    "    for l in graphe:\n",
    "        for c in l:\n",
    "            res = res + c\n",
    "    return res//2\n"
   ],
   "outputs": [],
   "metadata": {}
  },
  {
   "cell_type": "code",
   "execution_count": 21,
   "source": [
    "taille(g)"
   ],
   "outputs": [
    {
     "output_type": "execute_result",
     "data": {
      "text/plain": [
       "3"
      ]
     },
     "metadata": {},
     "execution_count": 21
    }
   ],
   "metadata": {}
  },
  {
   "cell_type": "markdown",
   "source": [
    "Ecrire une fonction `creer` qui prend en entrée une liste de couples de numéros de sommets représentant les arêtes d'un graphe et qui retourne une matrice d'adjacence représentant le graphe. Pour simplifier, on pourra passer en paramètre le nombre de sommets."
   ],
   "metadata": {}
  },
  {
   "cell_type": "code",
   "execution_count": 29,
   "source": [
    "def creer (graphe, nombre_de_sommets):\n",
    "    k = 0\n",
    "    j = 0\n",
    "    res = []\n",
    "    for k in range(nombre_de_sommets) :\n",
    "        res.append([])\n",
    "        for j in range(nombre_de_sommets):\n",
    "            res[k].append(0)\n",
    "\n",
    "    for edge in graphe:\n",
    "        res[edge[0]][edge[1]] = 1\n",
    "        res[edge[1]][edge[0]] = 1\n",
    "    return res"
   ],
   "outputs": [],
   "metadata": {}
  },
  {
   "cell_type": "code",
   "execution_count": 30,
   "source": [
    "g = creer([(0,3), (1, 2), (1, 3)],4)"
   ],
   "outputs": [],
   "metadata": {}
  },
  {
   "cell_type": "markdown",
   "source": [
    "Vérifions que `g` a la bonne taille."
   ],
   "metadata": {}
  },
  {
   "cell_type": "code",
   "execution_count": 31,
   "source": [
    "taille(g)"
   ],
   "outputs": [
    {
     "output_type": "execute_result",
     "data": {
      "text/plain": [
       "3"
      ]
     },
     "metadata": {},
     "execution_count": 31
    }
   ],
   "metadata": {}
  },
  {
   "cell_type": "markdown",
   "source": [
    "Ecrire une procédure qui étant donnés un graphe représenté par une matrice d'adjacence, deux sommets (numéros de sommets) ajoute une arête entre ces deux sommets et modifie le graphe passé en paramètre."
   ],
   "metadata": {}
  },
  {
   "cell_type": "code",
   "execution_count": 33,
   "source": [
    "def ajouter_arete (graphe, sommet1, sommet2):\n",
    "    graphe[sommet1][sommet2] = 1\n",
    "    graphe[sommet2][sommet1] = 1"
   ],
   "outputs": [],
   "metadata": {}
  },
  {
   "cell_type": "code",
   "execution_count": 34,
   "source": [
    "ajouter_arete(g,2,3)"
   ],
   "outputs": [],
   "metadata": {}
  },
  {
   "cell_type": "markdown",
   "source": [
    "Vérifions que `g` a la bonne taille une fois une nouvelle arête ajoutée."
   ],
   "metadata": {}
  },
  {
   "cell_type": "code",
   "execution_count": 35,
   "source": [
    "taille(g)"
   ],
   "outputs": [
    {
     "output_type": "execute_result",
     "data": {
      "text/plain": [
       "4"
      ]
     },
     "metadata": {},
     "execution_count": 35
    }
   ],
   "metadata": {}
  }
 ],
 "metadata": {
  "kernelspec": {
   "name": "python3",
   "display_name": "Python 3.8.10 64-bit"
  },
  "language_info": {
   "codemirror_mode": {
    "name": "ipython",
    "version": 3
   },
   "file_extension": ".py",
   "mimetype": "text/x-python",
   "name": "python",
   "nbconvert_exporter": "python",
   "pygments_lexer": "ipython3",
   "version": "3.8.10"
  },
  "interpreter": {
   "hash": "916dbcbb3f70747c44a77c7bcd40155683ae19c65e1c03b4aa3499c5328201f1"
  }
 },
 "nbformat": 4,
 "nbformat_minor": 4
}