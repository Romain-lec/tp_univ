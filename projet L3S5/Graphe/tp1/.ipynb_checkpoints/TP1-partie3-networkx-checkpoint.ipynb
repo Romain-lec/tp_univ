{
 "cells": [
  {
   "cell_type": "markdown",
   "metadata": {},
   "source": [
    "# TP1 - partie 3\n",
    "\n",
    "Dans cette troisième et dernière partie du TP1 nous allons introduire l'utilisation de la bibliothèque NetworkX."
   ]
  },
  {
   "cell_type": "markdown",
   "metadata": {},
   "source": [
    "## D'abord prendre en main les basiques\n",
    "\n",
    "Pour cela vous allez suivre le tutoriel NetworkX :\n",
    "\n",
    "- https://networkx.github.io/documentation/stable/tutorial.html# jusqu'à la section 'Accessing edges and neighbors' comprise\n",
    "- puis la section 'Drawing graphs'\n",
    "\n",
    "Pour réaliser vos tests, vous pourrez ajouter des cellules ci-dessous (raccourci clavier 'b'). "
   ]
  },
  {
   "cell_type": "code",
   "execution_count": 20,
   "metadata": {},
   "outputs": [],
   "source": [
    "import networkx as nx"
   ]
  },
  {
   "cell_type": "markdown",
   "metadata": {},
   "source": [
    "## Et maintenant on met en œuvre"
   ]
  },
  {
   "cell_type": "markdown",
   "metadata": {},
   "source": [
    "Construisez le graphe suivant :"
   ]
  },
  {
   "attachments": {
    "g1.png": {
     "image/png": "[encoded data removed]"
    }
   },
   "cell_type": "markdown",
   "metadata": {},
   "source": [
    "![g1.png](attachment:g1.png)"
   ]
  },
  {
   "cell_type": "code",
   "execution_count": null,
   "metadata": {},
   "outputs": [],
   "source": []
  },
  {
   "cell_type": "markdown",
   "metadata": {},
   "source": [
    "On peut visualiser le graphe grâce à `matplotlib`et la fonction `draw`. Ici on a de plus configuré l'affichage pour que les étiquettes des sommets soient affichées, la taille des sommets soit de 800, la couleur de fond des sommets gris clair. Si on effectue l'affichage en dehors d'un notebook, il ne faut pas oublier l'instruction `plt.show()`."
   ]
  },
  {
   "cell_type": "code",
   "execution_count": null,
   "metadata": {},
   "outputs": [],
   "source": []
  },
  {
   "cell_type": "markdown",
   "metadata": {},
   "source": [
    "La documentation de NetworkX est divisée en sections. Il existe notamment :\n",
    "\n",
    "- une section pour obtenir les méthodes [sur les sommets et les arêtes](https://networkx.github.io/documentation/stable/reference/functions.html),\n",
    "- une section pour obtenir les [algorithmes disponibles](https://networkx.github.io/documentation/stable/reference/algorithms/index.html) (à laquelle on s'intéressera plus tard)."
   ]
  },
  {
   "cell_type": "markdown",
   "metadata": {},
   "source": [
    "Avec NetworkX, cherchez les méthodes pour obtenir les informations suivantes :\n",
    "\n",
    "- le nombre de sommets du graphe\n",
    "- le nombre d'arêtes du graphe\n",
    "- le degré du sommet 1\n",
    "- le degré du sommet 2\n",
    "- les voisins du sommet 1\n",
    "\n",
    "et expérimentez."
   ]
  },
  {
   "cell_type": "code",
   "execution_count": null,
   "metadata": {},
   "outputs": [],
   "source": []
  },
  {
   "cell_type": "code",
   "execution_count": null,
   "metadata": {},
   "outputs": [],
   "source": []
  },
  {
   "cell_type": "code",
   "execution_count": null,
   "metadata": {},
   "outputs": [],
   "source": []
  },
  {
   "cell_type": "code",
   "execution_count": null,
   "metadata": {},
   "outputs": [],
   "source": []
  },
  {
   "cell_type": "code",
   "execution_count": null,
   "metadata": {},
   "outputs": [],
   "source": []
  },
  {
   "cell_type": "markdown",
   "metadata": {},
   "source": [
    "NetworkX permet de construire des graphes de différents façons. Une première manière de faire est d'ajouter des sommets à un graphe, puis de relier les sommets par des arêtes, comme cela a été fait plus haut."
   ]
  },
  {
   "cell_type": "markdown",
   "metadata": {},
   "source": [
    "Une seconde manière est de créer le graphe directement à partir d'une liste d'arêtes, cela crée implicitement les sommets. Si les noms des sommets sont donnés par des chaînes de caractères, cela fonctionne aussi :"
   ]
  },
  {
   "cell_type": "code",
   "execution_count": 21,
   "metadata": {},
   "outputs": [],
   "source": [
    "h = nx.Graph([('Paul','Jacques'),('Paul','Maryse')])"
   ]
  },
  {
   "cell_type": "markdown",
   "metadata": {},
   "source": [
    " mais les sommets de degré 0 ne peuvent être ajoutés directement, il faut le faire dans une seconde étape :"
   ]
  },
  {
   "cell_type": "code",
   "execution_count": 22,
   "metadata": {},
   "outputs": [],
   "source": [
    "h.add_node('Séverine')"
   ]
  },
  {
   "cell_type": "markdown",
   "metadata": {},
   "source": [
    "Ecrire une fonction `degre_max` qui calcule le degré du sommet de degré le plus grand étant donné un graphe NetworkX."
   ]
  },
  {
   "cell_type": "code",
   "execution_count": 23,
   "metadata": {},
   "outputs": [],
   "source": [
    "def degre_max(g):\n",
    "    assert isinstance(g,nx.classes.graph.Graph)\n",
    "    pass"
   ]
  },
  {
   "cell_type": "code",
   "execution_count": 24,
   "metadata": {},
   "outputs": [],
   "source": [
    "degre_max(h)"
   ]
  },
  {
   "cell_type": "markdown",
   "metadata": {},
   "source": [
    "Ecrire un prédicat `est_complet` qui vérifie qu'un graphe est complet. On pourra vérifier son prédicat en comparant le résultat au prédicat NetworkX permettant de tester cela et en utilisant les [fonctions de NetworkX permettant de générer des graphes](https://networkx.github.io/documentation/stable/reference/generators.html#module-networkx.generators.classic)"
   ]
  },
  {
   "cell_type": "code",
   "execution_count": 25,
   "metadata": {},
   "outputs": [],
   "source": [
    "def est_complet(g):\n",
    "    assert isinstance(g,nx.classes.graph.Graph)\n",
    "    pass"
   ]
  },
  {
   "cell_type": "markdown",
   "metadata": {},
   "source": [
    "Trouver le prédicat NetwokX permettant de tester l'isomorphisme de deux graphes. Puis créer trois graphes dont deux sont isomorphes et vérifier."
   ]
  },
  {
   "cell_type": "code",
   "execution_count": null,
   "metadata": {},
   "outputs": [],
   "source": []
  },
  {
   "cell_type": "markdown",
   "metadata": {},
   "source": [
    "## Un petit problème pour terminer \n",
    "\n",
    "Créer le graphe (qu'on nommera `amis`) permettant de représenter les relations d'amitiés suivantes : Henri, Jacqueline, Roger sont amis avec Marcel, Jaqueline et Roger sont amis réciproques, Marcel est ami avec Bernadette et Jean, Bernadette est amie avec Henri et Anatole, Anatole est ami avec Marcel. Puis le dessiner (si les arêtes se croisent, posez-vous la question si il est possible de dessiner le graphe sans que les arêtes se croisent ? comment nomme-t-on cette propriété ?)."
   ]
  },
  {
   "cell_type": "code",
   "execution_count": null,
   "metadata": {},
   "outputs": [],
   "source": []
  },
  {
   "cell_type": "code",
   "execution_count": null,
   "metadata": {},
   "outputs": [],
   "source": []
  },
  {
   "cell_type": "markdown",
   "metadata": {},
   "source": [
    "Qui a le plus d'amis ? (quelle propriété doit-on vérifier ?)"
   ]
  },
  {
   "cell_type": "code",
   "execution_count": null,
   "metadata": {},
   "outputs": [],
   "source": []
  },
  {
   "cell_type": "markdown",
   "metadata": {},
   "source": [
    "Calculer tous les amis des amis d'un membre quelconque du réseau d'amis :\n",
    "- formuler le problème sous forme d'un problème dans un graphe,\n",
    "- écrire le code Python permettant de répondre à la question (en utilisant NetworkX)."
   ]
  },
  {
   "cell_type": "code",
   "execution_count": null,
   "metadata": {},
   "outputs": [],
   "source": []
  },
  {
   "cell_type": "code",
   "execution_count": null,
   "metadata": {},
   "outputs": [],
   "source": []
  }
 ],
 "metadata": {
  "kernelspec": {
   "display_name": "Python 3",
   "language": "python",
   "name": "python3"
  },
  "language_info": {
   "codemirror_mode": {
    "name": "ipython",
    "version": 3
   },
   "file_extension": ".py",
   "mimetype": "text/x-python",
   "name": "python",
   "nbconvert_exporter": "python",
   "pygments_lexer": "ipython3",
   "version": "3.7.3"
  }
 },
 "nbformat": 4,
 "nbformat_minor": 4
}
