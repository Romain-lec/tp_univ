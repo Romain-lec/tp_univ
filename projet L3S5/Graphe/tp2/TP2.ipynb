{
 "cells": [
  {
   "cell_type": "markdown",
   "metadata": {},
   "source": [
    "# TP2 - parcours dans les graphes (en présentiel)"
   ]
  },
  {
   "cell_type": "markdown",
   "metadata": {},
   "source": [
    "Dans le cours, [chapitre 2](http://www.fil.univ-lille1.fr/~varre/portail/graphes/docs/chap02-parcours.pdf), vous avez découvert les parcours de graphes.\n",
    "\n",
    "L'objectif de ce TP est de mettre en œuvre ces algorithmes de parcours et de comprendre ce que sont les arbres couvrant par la même occasion (qu'on a évoqué en cours, et qu'on peut retrouver section du chapitre 2).\n",
    "\n",
    "Nous verrons une application au calcul des composantes connexes d'un graphe."
   ]
  },
  {
   "cell_type": "markdown",
   "metadata": {},
   "source": [
    "## Partie 1 - parcours en largeur et en profondeur"
   ]
  },
  {
   "cell_type": "code",
   "execution_count": 4,
   "metadata": {},
   "outputs": [],
   "source": [
    "import networkx as nx\n",
    "import matplotlib.pyplot as plt"
   ]
  },
  {
   "cell_type": "code",
   "execution_count": 5,
   "metadata": {},
   "outputs": [],
   "source": [
    "g = nx.Graph([(0,1),(0,2),(1,3),(2,4),(2,1),(3,5),(5,1)])"
   ]
  },
  {
   "cell_type": "code",
   "execution_count": 6,
   "metadata": {},
   "outputs": [
    {
     "data": {
      "image/png": "[encoded data removed]",
      "text/plain": [
       "<Figure size 432x288 with 1 Axes>"
      ]
     },
     "metadata": {},
     "output_type": "display_data"
    }
   ],
   "source": [
    "nx.draw(g,with_labels=True)"
   ]
  },
  {
   "cell_type": "markdown",
   "metadata": {},
   "source": [
    "Implanter la fonction `parcours_en_largeur` qui étant donné un `graphe` (NetworkX) et un `sommet` de ce graphe, réalise un parcours en **largeur** et retourne la liste des sommets dans l'ordre dans lequel ils ont été visités."
   ]
  },
  {
   "cell_type": "code",
   "execution_count": 7,
   "metadata": {},
   "outputs": [],
   "source": [
    "def parcours_en_largeur(graphe, sommet):\n",
    "    neighbors = []\n",
    "    for j in nx.neighbors(graphe,sommet):\n",
    "        neighbors.append(j)\n",
    "    visiter = [sommet]\n",
    "    for i in neighbors:\n",
    "        if i not in visiter: \n",
    "            visiter.append(i)\n",
    "            for k in nx.neighbors(graphe,i):\n",
    "                neighbors.append(k)\n",
    "    return visiter\n"
   ]
  },
  {
   "cell_type": "markdown",
   "metadata": {},
   "source": [
    "Tester à partir de chaque sommet et vérifier que le parcours est correct."
   ]
  },
  {
   "cell_type": "code",
   "execution_count": 8,
   "metadata": {},
   "outputs": [
    {
     "data": {
      "text/plain": [
       "[0, 1, 2, 3, 5, 4]"
      ]
     },
     "execution_count": 8,
     "metadata": {},
     "output_type": "execute_result"
    }
   ],
   "source": [
    "parcours_en_largeur(g,0)"
   ]
  },
  {
   "cell_type": "markdown",
   "metadata": {},
   "source": [
    "Implanter la fonction `parcours_en_profondeur` qui étant donné un `graphe` (NetworkX) et un `sommet` de ce graphe, réalise un parcours en **profondeur** et retourne la liste des sommets dans l'ordre dans lequel ils ont été visités."
   ]
  },
  {
   "cell_type": "code",
   "execution_count": 9,
   "metadata": {},
   "outputs": [],
   "source": [
    "def parcours_en_profondeur(graphe, sommet):\n",
    "    visiter = []\n",
    "    neighbors = []\n",
    "    for i in nx.neighbors(graphe,sommet) :\n",
    "        neighbors.append(i)\n",
    "    while neighbors != [] :\n",
    "        pointeur = neighbors.pop(0)\n",
    "        if pointeur not in visiter : \n",
    "            visiter.append(pointeur)\n",
    "            for j in nx.neighbors(graphe, pointeur) :\n",
    "                neighbors.append(j)\n",
    "    return visiter"
   ]
  },
  {
   "cell_type": "markdown",
   "metadata": {},
   "source": [
    "Tester à partir de chaque sommet et vérifier que le parcours est correct."
   ]
  },
  {
   "cell_type": "code",
   "execution_count": 10,
   "metadata": {},
   "outputs": [
    {
     "data": {
      "text/plain": [
       "[1, 2, 0, 3, 5, 4]"
      ]
     },
     "execution_count": 10,
     "metadata": {},
     "output_type": "execute_result"
    }
   ],
   "source": [
    "parcours_en_profondeur(g,0)"
   ]
  },
  {
   "cell_type": "markdown",
   "metadata": {},
   "source": [
    "## Partie 2 - amélioration du parcours\n",
    "\n",
    "Relire le dernier paragraphe de la section 2.2.3 du chapitre 2."
   ]
  },
  {
   "cell_type": "markdown",
   "metadata": {},
   "source": [
    "Reprendre la fonction de parcours en profondeur et afficher l'état de la pile à chaque tour de boucle. Tester et constater que des sommets sont empilés plusieurs fois."
   ]
  },
  {
   "cell_type": "code",
   "execution_count": 12,
   "metadata": {},
   "outputs": [
    {
     "name": "stdout",
     "output_type": "stream",
     "text": [
      "[1, 2]\n",
      "[2, 0, 3, 2, 5]\n",
      "[0, 3, 2, 5, 0, 4, 1]\n",
      "[3, 2, 5, 0, 4, 1, 1, 2]\n",
      "[2, 5, 0, 4, 1, 1, 2, 1, 5]\n",
      "[5, 0, 4, 1, 1, 2, 1, 5]\n",
      "[0, 4, 1, 1, 2, 1, 5, 3, 1]\n",
      "[4, 1, 1, 2, 1, 5, 3, 1]\n",
      "[1, 1, 2, 1, 5, 3, 1, 2]\n",
      "[1, 2, 1, 5, 3, 1, 2]\n",
      "[2, 1, 5, 3, 1, 2]\n",
      "[1, 5, 3, 1, 2]\n",
      "[5, 3, 1, 2]\n",
      "[3, 1, 2]\n",
      "[1, 2]\n",
      "[2]\n"
     ]
    },
    {
     "data": {
      "text/plain": [
       "[1, 2, 0, 3, 5, 4]"
      ]
     },
     "execution_count": 12,
     "metadata": {},
     "output_type": "execute_result"
    }
   ],
   "source": [
    "def parcours_en_profondeur2(graphe, sommet):\n",
    "    visiter = []\n",
    "    neighbors = []\n",
    "    for i in nx.neighbors(graphe,sommet) :\n",
    "        neighbors.append(i)\n",
    "    while neighbors != [] :\n",
    "        print(neighbors)\n",
    "        pointeur = neighbors.pop(0)\n",
    "        if pointeur not in visiter : \n",
    "            visiter.append(pointeur)\n",
    "            for j in nx.neighbors(graphe, pointeur) :\n",
    "                neighbors.append(j)\n",
    "    return visiter\n",
    "\n",
    "parcours_en_profondeur2(g,0)"
   ]
  },
  {
   "cell_type": "markdown",
   "metadata": {},
   "source": [
    "Reprendre l'algorithme de parcours en profondeur et le modifier pour s'assurer qu'un sommet n'est empilé qu'une et une seule fois dans la pile en cours de parcours."
   ]
  },
  {
   "cell_type": "code",
   "execution_count": 40,
   "metadata": {},
   "outputs": [],
   "source": [
    "def parcours_ameliore(graphe, sommet):\n",
    "    visiter = []\n",
    "    neighbors = []\n",
    "    for i in nx.neighbors(graphe,sommet) :\n",
    "        neighbors.append(i)\n",
    "    while neighbors != [] :\n",
    "        pointeur = neighbors.pop(0)\n",
    "        if pointeur not in visiter : \n",
    "            visiter.append(pointeur)\n",
    "            for j in nx.neighbors(graphe, pointeur) :\n",
    "                if j not in neighbors :\n",
    "                    neighbors.append(j)\n",
    "    return visiter"
   ]
  },
  {
   "cell_type": "markdown",
   "metadata": {},
   "source": [
    "Vérifier sur des exemples."
   ]
  },
  {
   "cell_type": "code",
   "execution_count": 22,
   "metadata": {},
   "outputs": [
    {
     "name": "stdout",
     "output_type": "stream",
     "text": [
      "[1, 2]\n",
      "[2, 0, 3, 5]\n",
      "[0, 3, 5, 4, 1]\n",
      "[3, 5, 4, 1, 2]\n",
      "[5, 4, 1, 2]\n",
      "[4, 1, 2, 3]\n",
      "[1, 2, 3]\n",
      "[2, 3]\n",
      "[3]\n"
     ]
    },
    {
     "data": {
      "text/plain": [
       "[1, 2, 0, 3, 5, 4]"
      ]
     },
     "execution_count": 22,
     "metadata": {},
     "output_type": "execute_result"
    }
   ],
   "source": [
    "parcours_ameliore(g,0)"
   ]
  },
  {
   "cell_type": "markdown",
   "metadata": {},
   "source": [
    "Est-ce que votre algorithme implémente toujours un parcours en profondeur ?"
   ]
  },
  {
   "cell_type": "markdown",
   "metadata": {},
   "source": [
    "## Partie 3 - arbre de parcours\n",
    "\n",
    "Vous pouvez vous référer à la section 2.3 'Arbres de parcours' du chapitre 2.\n",
    "\n",
    "Comme lorsqu'on parcourt un graphe on construit implictement un arbre de parcours, on propose ici de créer une fonction qui calcule un nouveau graphe qui est un graphe de parcours du graphe initial. Pour construire cet arbre de parcours, il suffit à chaque fois qu'on emprunte une arête de l'ajouter dans le nouvel arbre."
   ]
  },
  {
   "cell_type": "markdown",
   "metadata": {},
   "source": [
    "Reprennez le code de l'algorithme de parcours en profondeur réalisé en partie 1 et modifiez le pour écrire la fonction `arbre_couvrant` qui cette fois retourne un arbre de parcours plutôt que la liste des sommets."
   ]
  },
  {
   "cell_type": "code",
   "execution_count": 36,
   "metadata": {},
   "outputs": [],
   "source": [
    "def arbre_couvrant (graphe, sommet):\n",
    "    last = None\n",
    "    g = nx.Graph()\n",
    "    neighbors = []\n",
    "    for i in nx.neighbors(graphe,sommet) :\n",
    "        neighbors.append(i)\n",
    "    while neighbors != [] :\n",
    "        print(neighbors)\n",
    "        pointeur = neighbors.pop(0)\n",
    "        if last is not None :\n",
    "            if pointeur not in list(g.nodes()) : \n",
    "                g.add_edge(last,pointeur)\n",
    "                last = pointeur\n",
    "                for j in nx.neighbors(graphe, pointeur) :\n",
    "                    if j not in neighbors :\n",
    "                        neighbors.append(j)\n",
    "        else:\n",
    "            last = pointeur\n",
    "            for j in nx.neighbors(graphe, pointeur) :\n",
    "                if j not in neighbors :\n",
    "                    neighbors.append(j)\n",
    "\n",
    "    return g"
   ]
  },
  {
   "cell_type": "code",
   "execution_count": 37,
   "metadata": {},
   "outputs": [
    {
     "name": "stdout",
     "output_type": "stream",
     "text": [
      "[1, 2]\n",
      "[2, 0, 3, 5]\n",
      "[0, 3, 5, 4, 1]\n",
      "[3, 5, 4, 1, 2]\n",
      "[5, 4, 1, 2]\n",
      "[4, 1, 2, 3]\n",
      "[1, 2, 3]\n",
      "[2, 3]\n",
      "[3]\n"
     ]
    }
   ],
   "source": [
    "ac = arbre_couvrant(g,0)"
   ]
  },
  {
   "cell_type": "code",
   "execution_count": 38,
   "metadata": {},
   "outputs": [
    {
     "data": {
      "image/png": "[encoded data removed]",
      "text/plain": [
       "<Figure size 432x288 with 1 Axes>"
      ]
     },
     "metadata": {},
     "output_type": "display_data"
    }
   ],
   "source": [
    "nx.draw(ac,with_labels=True)"
   ]
  },
  {
   "cell_type": "markdown",
   "metadata": {},
   "source": [
    "## Partie 4 - application au calcul de composantes connexes"
   ]
  },
  {
   "cell_type": "markdown",
   "metadata": {},
   "source": [
    "Comme indiqué en section 2.3, un arbre de parcours est appelé arbre couvrant si tous les sommets du graphe sont couverts par un arbre de parcours. L'existence d'un arbre couvrant implique que le graphe est connexe (et réciproquement) puisque qu'à partir de n'importe quel sommet il faut pouvoir accéder à tous les autres (il existe un chemin entre chaque paire de sommets du graphe)."
   ]
  },
  {
   "cell_type": "markdown",
   "metadata": {},
   "source": [
    "Ecrire une fonction `est_connexe` qui teste si un graphe est connexe."
   ]
  },
  {
   "cell_type": "code",
   "execution_count": 41,
   "metadata": {},
   "outputs": [
    {
     "data": {
      "text/plain": [
       "True"
      ]
     },
     "execution_count": 41,
     "metadata": {},
     "output_type": "execute_result"
    }
   ],
   "source": [
    "def est_connexe(graphe):\n",
    "    couvrant = parcours_ameliore(graphe,0)\n",
    "    sommets = list(graphe.nodes)\n",
    "    while couvrant != [] :\n",
    "        if couvrant.pop(0) not in sommets :\n",
    "            return False\n",
    "    return True\n",
    "    \n",
    "est_connexe(g)"
   ]
  },
  {
   "cell_type": "markdown",
   "metadata": {},
   "source": [
    "Lire la section 2.4.1 du chapitre 2 qui définit ce qu'est une cmposante connexe."
   ]
  },
  {
   "cell_type": "markdown",
   "metadata": {},
   "source": [
    "Ecrire une fonction `composantes_connexes` qui calcule l'ensemble des composantes connexes d'un graphe."
   ]
  },
  {
   "cell_type": "code",
   "execution_count": 42,
   "metadata": {},
   "outputs": [],
   "source": [
    "def composantes_connexes(graphe):\n",
    "    allSommets = list(graphe.nodes)\n",
    "    visiter = []\n",
    "    while allSommets != [] :\n",
    "        vu = list(arbre_couvrant(graphe,allSommets[0]).nodes)\n",
    "        visiter.append(vu)\n",
    "        for elt in vu :\n",
    "            allSommets.remove(elt)\n",
    "    return visiter\n"
   ]
  },
  {
   "cell_type": "code",
   "execution_count": 46,
   "metadata": {},
   "outputs": [
    {
     "name": "stdout",
     "output_type": "stream",
     "text": [
      "[1]\n",
      "[0, 2]\n",
      "[2, 1]\n",
      "[1]\n",
      "[6]\n",
      "[5, 7]\n",
      "[7, 6]\n",
      "[6]\n"
     ]
    },
    {
     "data": {
      "text/plain": [
       "[[1, 0, 2], [6, 5, 7]]"
      ]
     },
     "execution_count": 46,
     "metadata": {},
     "output_type": "execute_result"
    }
   ],
   "source": [
    "nonConexe = nx.Graph([(0,1),(1,2),(5,6),(6,7)])\n",
    "composantes_connexes(nonConexe)\n"
   ]
  },
  {
   "cell_type": "code",
   "execution_count": null,
   "metadata": {},
   "outputs": [],
   "source": []
  }
 ],
 "metadata": {
  "interpreter": {
   "hash": "916dbcbb3f70747c44a77c7bcd40155683ae19c65e1c03b4aa3499c5328201f1"
  },
  "kernelspec": {
   "display_name": "Python 3.8.10 64-bit",
   "name": "python3"
  },
  "language_info": {
   "codemirror_mode": {
    "name": "ipython",
    "version": 3
   },
   "file_extension": ".py",
   "mimetype": "text/x-python",
   "name": "python",
   "nbconvert_exporter": "python",
   "pygments_lexer": "ipython3",
   "version": "3.8.10"
  }
 },
 "nbformat": 4,
 "nbformat_minor": 4
}
